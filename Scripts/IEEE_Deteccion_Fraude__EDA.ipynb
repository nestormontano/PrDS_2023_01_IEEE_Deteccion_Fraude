{
  "nbformat": 4,
  "nbformat_minor": 0,
  "metadata": {
    "colab": {
      "provenance": [],
      "include_colab_link": true
    },
    "kernelspec": {
      "name": "python3",
      "display_name": "Python 3"
    },
    "language_info": {
      "name": "python"
    }
  },
  "cells": [
    {
      "cell_type": "markdown",
      "metadata": {
        "id": "view-in-github",
        "colab_type": "text"
      },
      "source": [
        "<a href=\"https://colab.research.google.com/github/nestormontano/PrDS_2023_01_IEEE_Deteccion_Fraude/blob/main/Scripts/IEEE_Deteccion_Fraude__EDA.ipynb\" target=\"_parent\"><img src=\"https://colab.research.google.com/assets/colab-badge.svg\" alt=\"Open In Colab\"/></a>"
      ]
    },
    {
      "cell_type": "markdown",
      "source": [
        "# Análisis exploratorio de datos - Proyecto IEEE-CIS Deteccion de fraude"
      ],
      "metadata": {
        "id": "9DIvVdVu4XC1"
      }
    },
    {
      "cell_type": "markdown",
      "source": [
        "Sitio del concurso: https://www.kaggle.com/competitions/ieee-fraud-detection/overview\n",
        "  \n",
        "Datos: https://drive.google.com/drive/folders/1lhKnZfq2jQKkivLTFbmWn6ZSvNm8cKIe?usp=share_link\n",
        "  \n",
        "Deben seguir las instrucciones dadas en el pdf, esto es  \n",
        "- Abrir la carpeta y hacer un acceso directo en su drive \n",
        "- Conectar el Colab con su drive \n",
        "\n",
        "Recuerden que deben leer y escribir en GitHub los cambios para que se noten sus aportes."
      ],
      "metadata": {
        "id": "gZ7_rikQ4eoe"
      }
    },
    {
      "cell_type": "code",
      "source": [
        "from google.colab import drive\n",
        "drive.mount('/content/drive')"
      ],
      "metadata": {
        "id": "w4Myj07U5Fe1",
        "outputId": "8b2e37e4-7b14-4c0d-d8b5-518d3607f9cc",
        "colab": {
          "base_uri": "https://localhost:8080/"
        }
      },
      "execution_count": 1,
      "outputs": [
        {
          "output_type": "stream",
          "name": "stdout",
          "text": [
            "Mounted at /content/drive\n"
          ]
        }
      ]
    },
    {
      "cell_type": "code",
      "execution_count": null,
      "metadata": {
        "id": "6zbcpCcP254-"
      },
      "outputs": [],
      "source": [
        "import pandas\n",
        "import numpy\n"
      ]
    },
    {
      "cell_type": "code",
      "source": [],
      "metadata": {
        "id": "KC6LhSIkAupo"
      },
      "execution_count": null,
      "outputs": []
    }
  ]
}