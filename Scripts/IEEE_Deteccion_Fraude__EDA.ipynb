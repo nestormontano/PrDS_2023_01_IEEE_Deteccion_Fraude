{
  "nbformat": 4,
  "nbformat_minor": 0,
  "metadata": {
    "colab": {
      "provenance": [],
      "toc_visible": true,
      "include_colab_link": true
    },
    "kernelspec": {
      "name": "python3",
      "display_name": "Python 3"
    },
    "language_info": {
      "name": "python"
    }
  },
  "cells": [
    {
      "cell_type": "markdown",
      "metadata": {
        "id": "view-in-github",
        "colab_type": "text"
      },
      "source": [
        "<a href=\"https://colab.research.google.com/github/nestormontano/PrDS_2023_01_IEEE_Deteccion_Fraude/blob/main/Scripts/IEEE_Deteccion_Fraude__EDA.ipynb\" target=\"_parent\"><img src=\"https://colab.research.google.com/assets/colab-badge.svg\" alt=\"Open In Colab\"/></a>"
      ]
    },
    {
      "cell_type": "markdown",
      "source": [
        "# Análisis exploratorio de datos - Proyecto IEEE-CIS Deteccion de fraude"
      ],
      "metadata": {
        "id": "9DIvVdVu4XC1"
      }
    },
    {
      "cell_type": "markdown",
      "source": [
        "Sitio del concurso: https://www.kaggle.com/competitions/ieee-fraud-detection/overview\n",
        "  \n",
        "Datos: https://drive.google.com/drive/folders/1lhKnZfq2jQKkivLTFbmWn6ZSvNm8cKIe?usp=share_link\n",
        "  \n",
        "Deben seguir las instrucciones dadas en el pdf, esto es  \n",
        "- Abrir la carpeta y hacer un acceso directo en su drive \n",
        "- Conectar el Colab con su drive \n",
        "\n",
        "Recuerden que deben cambiar la carpeta que será el workspace o las rutas para poder importar los datos.\n",
        "\n",
        "Finalmente, seguir las instrucciones del pdf para escribir en GitHub los cambios para que se noten sus aportes."
      ],
      "metadata": {
        "id": "gZ7_rikQ4eoe"
      }
    },
    {
      "cell_type": "code",
      "source": [
        "from google.colab import drive\n",
        "drive.mount('/content/drive')"
      ],
      "metadata": {
        "colab": {
          "base_uri": "https://localhost:8080/"
        },
        "id": "w4Myj07U5Fe1",
        "outputId": "736e21e2-1a6a-4077-c0a1-f06d70e7a0cf"
      },
      "execution_count": 1,
      "outputs": [
        {
          "output_type": "stream",
          "name": "stdout",
          "text": [
            "Mounted at /content/drive\n"
          ]
        }
      ]
    },
    {
      "cell_type": "markdown",
      "source": [
        "#### Preliminares"
      ],
      "metadata": {
        "id": "vKSw1JXfdGBW"
      }
    },
    {
      "cell_type": "code",
      "execution_count": 2,
      "metadata": {
        "id": "6zbcpCcP254-"
      },
      "outputs": [],
      "source": [
        "import pandas as pd\n",
        "import numpy as np\n",
        "import os"
      ]
    },
    {
      "cell_type": "code",
      "source": [
        "os.chdir('/content/drive/MyDrive/CURSOS_DICTADOS/TUTORIAS/PrDS_2023_01_IEEE_Deteccion_Fraude')"
      ],
      "metadata": {
        "id": "KC6LhSIkAupo"
      },
      "execution_count": 3,
      "outputs": []
    },
    {
      "cell_type": "markdown",
      "source": [
        "## EDA"
      ],
      "metadata": {
        "id": "hjhdd0VedVzN"
      }
    },
    {
      "cell_type": "markdown",
      "source": [
        "### Importar, corregir Datos y unir"
      ],
      "metadata": {
        "id": "8aJ_AGo-dSwd"
      }
    },
    {
      "cell_type": "code",
      "source": [
        "train_identity= pd.read_csv('ieee-fraud-detection/train_identity.csv')\n",
        "train_identity.info()"
      ],
      "metadata": {
        "colab": {
          "base_uri": "https://localhost:8080/"
        },
        "id": "rf5KTtkQdViq",
        "outputId": "0df5bc91-d48b-43bf-dd0e-d1337c706484"
      },
      "execution_count": 5,
      "outputs": [
        {
          "output_type": "stream",
          "name": "stdout",
          "text": [
            "<class 'pandas.core.frame.DataFrame'>\n",
            "RangeIndex: 144233 entries, 0 to 144232\n",
            "Data columns (total 41 columns):\n",
            " #   Column         Non-Null Count   Dtype  \n",
            "---  ------         --------------   -----  \n",
            " 0   TransactionID  144233 non-null  int64  \n",
            " 1   id_01          144233 non-null  float64\n",
            " 2   id_02          140872 non-null  float64\n",
            " 3   id_03          66324 non-null   float64\n",
            " 4   id_04          66324 non-null   float64\n",
            " 5   id_05          136865 non-null  float64\n",
            " 6   id_06          136865 non-null  float64\n",
            " 7   id_07          5155 non-null    float64\n",
            " 8   id_08          5155 non-null    float64\n",
            " 9   id_09          74926 non-null   float64\n",
            " 10  id_10          74926 non-null   float64\n",
            " 11  id_11          140978 non-null  float64\n",
            " 12  id_12          144233 non-null  object \n",
            " 13  id_13          127320 non-null  float64\n",
            " 14  id_14          80044 non-null   float64\n",
            " 15  id_15          140985 non-null  object \n",
            " 16  id_16          129340 non-null  object \n",
            " 17  id_17          139369 non-null  float64\n",
            " 18  id_18          45113 non-null   float64\n",
            " 19  id_19          139318 non-null  float64\n",
            " 20  id_20          139261 non-null  float64\n",
            " 21  id_21          5159 non-null    float64\n",
            " 22  id_22          5169 non-null    float64\n",
            " 23  id_23          5169 non-null    object \n",
            " 24  id_24          4747 non-null    float64\n",
            " 25  id_25          5132 non-null    float64\n",
            " 26  id_26          5163 non-null    float64\n",
            " 27  id_27          5169 non-null    object \n",
            " 28  id_28          140978 non-null  object \n",
            " 29  id_29          140978 non-null  object \n",
            " 30  id_30          77565 non-null   object \n",
            " 31  id_31          140282 non-null  object \n",
            " 32  id_32          77586 non-null   float64\n",
            " 33  id_33          73289 non-null   object \n",
            " 34  id_34          77805 non-null   object \n",
            " 35  id_35          140985 non-null  object \n",
            " 36  id_36          140985 non-null  object \n",
            " 37  id_37          140985 non-null  object \n",
            " 38  id_38          140985 non-null  object \n",
            " 39  DeviceType     140810 non-null  object \n",
            " 40  DeviceInfo     118666 non-null  object \n",
            "dtypes: float64(23), int64(1), object(17)\n",
            "memory usage: 45.1+ MB\n"
          ]
        }
      ]
    },
    {
      "cell_type": "code",
      "source": [
        "train_transaction= pd.read_csv('ieee-fraud-detection/train_transaction.csv')\n",
        "train_transaction.info()"
      ],
      "metadata": {
        "colab": {
          "base_uri": "https://localhost:8080/"
        },
        "id": "7bsXFzTFe0x2",
        "outputId": "f1422dca-0333-4078-8e3c-7b9b2d615a4a"
      },
      "execution_count": 6,
      "outputs": [
        {
          "output_type": "stream",
          "name": "stdout",
          "text": [
            "<class 'pandas.core.frame.DataFrame'>\n",
            "RangeIndex: 590540 entries, 0 to 590539\n",
            "Columns: 394 entries, TransactionID to V339\n",
            "dtypes: float64(376), int64(4), object(14)\n",
            "memory usage: 1.7+ GB\n"
          ]
        }
      ]
    },
    {
      "cell_type": "code",
      "source": [],
      "metadata": {
        "id": "SMkHU2NffAe9"
      },
      "execution_count": null,
      "outputs": []
    },
    {
      "cell_type": "markdown",
      "source": [
        "### EDA univariado\n",
        "\n",
        "Para encontrar qué variables deben ser excluidas del modelo, si se requiere alguna transformación, etc."
      ],
      "metadata": {
        "id": "0EsJ1LQHdcAV"
      }
    },
    {
      "cell_type": "code",
      "source": [],
      "metadata": {
        "id": "MyHSS5BrhNtY"
      },
      "execution_count": null,
      "outputs": []
    },
    {
      "cell_type": "code",
      "source": [],
      "metadata": {
        "id": "kDNfDcx8h5yG"
      },
      "execution_count": null,
      "outputs": []
    },
    {
      "cell_type": "markdown",
      "source": [
        "#### ++ Variables con demasiados NA"
      ],
      "metadata": {
        "id": "1-kZJsxphO1w"
      }
    },
    {
      "cell_type": "code",
      "source": [],
      "metadata": {
        "id": "4YmyiAPYhOJN"
      },
      "execution_count": null,
      "outputs": []
    },
    {
      "cell_type": "markdown",
      "source": [
        "#### ++ Variables con varianza cercana a cero"
      ],
      "metadata": {
        "id": "3i5TumqThaWP"
      }
    },
    {
      "cell_type": "code",
      "source": [],
      "metadata": {
        "id": "LYjiX9e3hmlu"
      },
      "execution_count": null,
      "outputs": []
    },
    {
      "cell_type": "code",
      "source": [],
      "metadata": {
        "id": "5tm0igzZhmoH"
      },
      "execution_count": null,
      "outputs": []
    },
    {
      "cell_type": "markdown",
      "source": [
        "#### Conclusiones"
      ],
      "metadata": {
        "id": "1-Jy7M--hnwe"
      }
    },
    {
      "cell_type": "markdown",
      "source": [
        "### EDA Multivariado\n",
        "\n",
        "Para encontrar relaciones entre variables, variables que pueden producir tener multicolinearidad o concurvidad, etc."
      ],
      "metadata": {
        "id": "0GjIisKmde_1"
      }
    },
    {
      "cell_type": "code",
      "source": [],
      "metadata": {
        "id": "Fah510hVfR_O"
      },
      "execution_count": null,
      "outputs": []
    },
    {
      "cell_type": "code",
      "source": [],
      "metadata": {
        "id": "kJifPvi7h5C2"
      },
      "execution_count": null,
      "outputs": []
    },
    {
      "cell_type": "markdown",
      "source": [
        "#### ++ Variables con alta correlación"
      ],
      "metadata": {
        "id": "0K83k20Th0p-"
      }
    },
    {
      "cell_type": "code",
      "source": [],
      "metadata": {
        "id": "-2K81J_Th4vJ"
      },
      "execution_count": null,
      "outputs": []
    }
  ]
}